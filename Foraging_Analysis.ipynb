{
 "cells": [
  {
   "cell_type": "code",
   "execution_count": 6,
   "metadata": {},
   "outputs": [
    {
     "name": "stdout",
     "output_type": "stream",
     "text": [
      "Successfully imported data for DA76\n",
      "Successfully imported data for DA77\n",
      "Successfully imported data for DA78\n",
      "Successfully imported data for DA79\n",
      "Successfully imported data for DA80\n",
      "Successfully imported data for DA81\n",
      "Successfully imported data for DA82\n",
      "Successfully imported data for DA83\n",
      "Successfully imported data for DA84\n",
      "Successfully imported data for DA85\n",
      "Successfully imported data for DA86\n"
     ]
    }
   ],
   "source": [
    "from foraging_analysis_fxns import import_animal_data\n",
    "cis3_data = import_animal_data(\"Cisplatin\", (\"DA76\", \"DA86\"), cohort=\"Cis3\")"
   ]
  },
  {
   "cell_type": "code",
   "execution_count": 9,
   "metadata": {},
   "outputs": [
    {
     "ename": "NameError",
     "evalue": "name 'DA76' is not defined",
     "output_type": "error",
     "traceback": [
      "\u001b[0;31m---------------------------------------------------------------------------\u001b[0m",
      "\u001b[0;31mNameError\u001b[0m                                 Traceback (most recent call last)",
      "Cell \u001b[0;32mIn[9], line 1\u001b[0m\n\u001b[0;32m----> 1\u001b[0m \u001b[38;5;28mprint\u001b[39m(\u001b[43mDA76\u001b[49m)\n",
      "\u001b[0;31mNameError\u001b[0m: name 'DA76' is not defined"
     ]
    }
   ],
   "source": [
    "print(DA76)"
   ]
  }
 ],
 "metadata": {
  "kernelspec": {
   "display_name": "chemobrain",
   "language": "python",
   "name": "python3"
  },
  "language_info": {
   "codemirror_mode": {
    "name": "ipython",
    "version": 3
   },
   "file_extension": ".py",
   "mimetype": "text/x-python",
   "name": "python",
   "nbconvert_exporter": "python",
   "pygments_lexer": "ipython3",
   "version": "3.13.1"
  }
 },
 "nbformat": 4,
 "nbformat_minor": 2
}
